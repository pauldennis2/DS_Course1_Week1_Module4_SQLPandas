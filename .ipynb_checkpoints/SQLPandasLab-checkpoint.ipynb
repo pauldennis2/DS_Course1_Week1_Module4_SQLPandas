{
 "cells": [
  {
   "cell_type": "markdown",
   "metadata": {},
   "source": [
    "## Introduction\n",
    "\n",
    "In this lab assessment, you will practice using SQL statements and the `.query()` method provided by Pandas to manipulate datasets. Pandas and SQL are both powerful tools for data manipulation and analysis, but they excel in different areas. SQL is designed for querying and managing relational databases, while pandas is a Python library for data manipulation and analysis in memory. By combining these tools, you can leverage the strengths of both:\n",
    "\n",
    "- Data Extraction: Use SQL to efficiently query large datasets stored in databases. SQL is optimized for this and can handle complex joins and aggregations at the database level.\n",
    "- Data Loading: Transfer the query results into pandas DataFrames. This brings the data into Python's ecosystem, where it can be further manipulated and analyzed.\n",
    "- Data Manipulation: Once the data is in a DataFrame, use pandas' rich set of functions for cleaning, transforming, and analyzing data. Pandas is particularly good at handling time series data and performing operations on entire columns or datasets at once.\n",
    "- Analysis and Visualization: With the data in pandas, you can easily perform statistical analyses, create visualizations, or feed the data into machine learning models.\n",
    "\n",
    "This combination allows you to work with large datasets that might not fit into memory by using SQL to pre-process and filter the data before bringing it into pandas. It also lets you use familiar SQL syntax for initial data extraction before switching to pandas' pythonic interface for further analysis.\n",
    "\n",
    "## Learning Objectives\n",
    "\n",
    "You will be able to:\n",
    "\n",
    "* Compare accessing data in a DataFrame using query methods and conditional logic\n",
    "* Query DataFrames with SQL using the `pandasql` library\n",
    "\n",
    "## Imports\n",
    "Begin by running the cell below where we have provided code imports."
   ]
  },
  {
   "cell_type": "code",
   "execution_count": null,
   "metadata": {},
   "outputs": [],
   "source": [
    "# CodeGrade step0\n",
    "# Run this cell without changes\n",
    "\n",
    "import pandas as pd\n",
    "import numpy as np\n",
    "import matplotlib.pyplot as plt\n",
    "from pandasql import sqldf"
   ]
  },
  {
   "cell_type": "markdown",
   "metadata": {},
   "source": [
    "## Part 1: Load Data \n",
    "\n",
    "In this assessment, you will be working with the _Titanic Survivors_ dataset. This dataset contains information pertaining to whether a passenger survived the Titanic ship disaster or not. It also contains data about each passenger such as cabin, class number, and family members that were onboard. \n",
    "\n",
    "Imagine that you're a data analyst working for a modern cruise line company. The company is planning to launch a new marketing campaign emphasizing their commitment to passenger safety. They want to use historical data from the Titanic disaster to create compelling narratives and inform their safety policies. You have been tasked with analyzing what factors might have affected survivorship.\n",
    "\n",
    "### Step 1:\n",
    "Using pandas, read in the data from `titanic.csv` and store it as a DataFrame in the variable `df`. Pass in `index_col=0` as an argument when loading in the data. Display the `.head()` to ensure that everything is loaded correctly."
   ]
  },
  {
   "cell_type": "code",
   "execution_count": null,
   "metadata": {},
   "outputs": [],
   "source": [
    "# CodeGrade step1\n",
    "\n",
    "df = None\n",
    "\n",
    "# Look at first 5 rows\n",
    "None"
   ]
  },
  {
   "cell_type": "markdown",
   "metadata": {},
   "source": [
    "## Part 2: Slicing DataFrames\n",
    "\n",
    "In this section, you're looking to investigate whether women and children survived more than men, or that rich passengers were more likely to survive than poor passengers.  The easiest way to confirm this is to slice the data into DataFrames that contain each subgroup, and then quickly visualize the survival rate of each subgroup with histograms.\n",
    "\n",
    "### Step 2:\n",
    "In the cell below, create a DataFrame that contains all passengers that are female, and also contains all children (males included) ages 15 and under.   \n",
    "\n",
    "Additionally, create a DataFrame that contains only adult male passengers over the age of 15.  "
   ]
  },
  {
   "cell_type": "code",
   "execution_count": null,
   "metadata": {},
   "outputs": [],
   "source": [
    "# CodeGrade step2\n",
    "# Replace None with your code\n",
    "\n",
    "women_and_children_df = None\n",
    "adult_males_df = None"
   ]
  },
  {
   "cell_type": "markdown",
   "metadata": {},
   "source": [
    "Great! Now, you can use the `matplotlib` functionality built into the DataFrame objects to quickly create visualizations of the `Survived` column for each DataFrame.  \n",
    "\n",
    "In the cell below, a histogram visualization is created of the `Survived` column for both DataFrames."
   ]
  },
  {
   "cell_type": "code",
   "execution_count": null,
   "metadata": {},
   "outputs": [],
   "source": [
    "# Run this cell without changes\n",
    "fig, axes = plt.subplots(ncols=2, nrows=1, figsize=(18, 8)) # Two figures side by side\n",
    "ax_lft = axes[0]\n",
    "adult_males_df['Survived'].hist(ax=ax_lft)\n",
    "ax_lft.set_title('Male Adults (over 15)')\n",
    "ax_lft.set_xlabel('Survived?')\n",
    "ax_lft.set_ylabel('Count')\n",
    "\n",
    "\n",
    "ax_rght = axes[1]\n",
    "women_and_children_df['Survived'].hist(ax=ax_rght, color='pink')\n",
    "ax_rght.set_title('Women and Children (15 and under)')\n",
    "ax_rght.set_xlabel('Survived?')\n",
    "ax_rght.set_ylabel('Count');"
   ]
  },
  {
   "cell_type": "markdown",
   "metadata": {},
   "source": [
    "Well that seems like a pretty stark difference -- it seems that there was drastically different behavior between the groups!  Now, let's repeat the same process, but separating rich and poor passengers.  \n",
    "\n",
    "### Step 3:\n",
    "In the cell below, create one DataFrame containing First Class passengers (`Pclass == 1`), and another DataFrame containing everyone else."
   ]
  },
  {
   "cell_type": "code",
   "execution_count": null,
   "metadata": {},
   "outputs": [],
   "source": [
    "# CodeGrade step3\n",
    "# Replace None with your code\n",
    "\n",
    "first_class_df = None\n",
    "second_third_class_df = None"
   ]
  },
  {
   "cell_type": "markdown",
   "metadata": {},
   "source": [
    "Now, we create histograms of the survival for each subgroup, just as above."
   ]
  },
  {
   "cell_type": "code",
   "execution_count": null,
   "metadata": {},
   "outputs": [],
   "source": [
    "# Run this cell without changes\n",
    "fig, axes = plt.subplots(ncols=2, nrows=1, figsize=(18, 8)) # Two figures side by side\n",
    "ax_lft = axes[0]\n",
    "first_class_df['Survived'].hist(ax=ax_lft, color='gold')\n",
    "ax_lft.set_title('First Class')\n",
    "ax_lft.set_xlabel('Survived?')\n",
    "ax_lft.set_ylabel('Count')\n",
    "\n",
    "\n",
    "ax_rght = axes[1]\n",
    "second_third_class_df['Survived'].hist(ax=ax_rght, color='grey')\n",
    "ax_rght.set_title('Everyone Else')\n",
    "ax_rght.set_xlabel('Survived?')\n",
    "ax_rght.set_ylabel('Count');"
   ]
  },
  {
   "cell_type": "markdown",
   "metadata": {},
   "source": [
    "To the surprise of absolutely no one, it seems like First Class passengers were more likely to survive than not, while 2nd and 3rd class passengers were more likely to die than not.  However, don't read too far into these graphs, as these aren't at the same scale, so they aren't fair comparisons.  \n",
    "\n",
    "Slicing is a useful method for quickly getting DataFrames that contain only the examples we're looking for.  It's a quick, easy method that feels intuitive in Python, since we can rely on the same conditional logic that we would if we were just writing `if/else` statements.  "
   ]
  },
  {
   "cell_type": "markdown",
   "metadata": {},
   "source": [
    "## Part 3: Querying DataFrames\n",
    "\n",
    "Instead of slicing, you can also make use of the DataFrame's built-in `.query()` method.  This method reads a bit more cleanly and allows us to pass in our arguments as a string.\n",
    "\n",
    "### Step 4:\n",
    "In the cell below, use the `.query()` method to slice a DataFrame that contains only passengers who have a `PassengerId` greater than or equal to 500. "
   ]
  },
  {
   "cell_type": "code",
   "execution_count": null,
   "metadata": {},
   "outputs": [],
   "source": [
    "# CodeGrade step4\n",
    "# Replace None with your code\n",
    "\n",
    "query_string = None\n",
    "high_passenger_number_df = None\n",
    "\n",
    "# Looking at first 5 rows\n",
    "high_passenger_number_df.head()"
   ]
  },
  {
   "cell_type": "markdown",
   "metadata": {},
   "source": [
    "Just as with slicing, you can pass in queries with multiple conditions.  One unique difference between using the `.query()` method and conditional slicing is that you can use `and` or `&` as well as `or` or `|` (for fun, try reading this last sentence out loud), while you are limited to the `&` and `|` symbols to denote and/or operations with conditional slicing.  \n",
    "\n",
    "Let's take a look at trying to reproduce the slicing from the previous question about females and children above but this time using the .query() method instead. Because it is based on query language it will inherently be faster computationally.\n",
    "### Step 5:\n",
    "In the cell below, use the `query()` method to return a DataFrame that contains all female passengers and all children under the age of 15 (male and female).\n",
    "\n",
    "**_Hint_**: Although the entire query is a string, you'll still need to denote that `female` is also a string, within the string. You will want to make use of both single (') and double (\") quotes (_String-Ception?_)."
   ]
  },
  {
   "cell_type": "code",
   "execution_count": null,
   "metadata": {},
   "outputs": [],
   "source": [
    "# CodeGrade step5\n",
    "# Replace None with your code\n",
    "\n",
    "query_string = None\n",
    "female_children_df = None\n",
    "\n",
    "# Looking at first 5 rows\n",
    "female_children_df.head()"
   ]
  },
  {
   "cell_type": "markdown",
   "metadata": {},
   "source": [
    "## Part 4: Eval Method\n",
    "\n",
    "A cousin of the `query()` method, `eval()` allows you to use the same string-filled syntax as querying for creating new columns and evaluating conditional expressions against a DataFrame. This method also allows the user to specify if the operation should be done in place or not, providing a quick, easy syntax for complex feature engineering based on python operators.  \n",
    "### Step 6:\n",
    "In the cell below, use the DataFrame's `eval()` method to add a new column called 'Age_x_Fare', that equals the 'Age' multiplied by the 'Fare' for each passenger. Save over the existing DataFrame object."
   ]
  },
  {
   "cell_type": "code",
   "execution_count": null,
   "metadata": {},
   "outputs": [],
   "source": [
    "# CodeGrade step6\n",
    "# Replace None with your code\n",
    "\n",
    "df = None\n",
    "\n",
    "# Looking at first 5 rows, should see new column\n",
    "df.head()"
   ]
  },
  {
   "cell_type": "markdown",
   "metadata": {},
   "source": [
    "## Part 5: Querying DataFrames with SQL"
   ]
  },
  {
   "cell_type": "markdown",
   "metadata": {},
   "source": [
    "For this section of the assessment, you'll make use of the `pandasql` library.  Pandasql is a library designed to make it easy to query DataFrames directly with SQL syntax, which was open-sourced by the company, Yhat, in late 2016.\n",
    "\n",
    "In the first cell of the notebook we imported pandsql as sqldf for you to use."
   ]
  },
  {
   "cell_type": "markdown",
   "metadata": {},
   "source": [
    "`pandasql` allows you to pass in SQL queries in the form of a string to directly query your database.  Each time you make a query, you need to pass an additional parameter that gives it access to the other variables in the session/environment. You can use a lambda function to pass `locals()` or `globals()` so that you don't have to type this every time.  \n",
    "### Step 7:\n",
    "In the cell below, create a variable called `pysqldf` and define it as a lambda function that will return the passed globals and the query. Refer to the lesson and reading material if this is unclear."
   ]
  },
  {
   "cell_type": "code",
   "execution_count": null,
   "metadata": {},
   "outputs": [],
   "source": [
    "# CodeGrade step7\n",
    "# Replace None with your code\n",
    "\n",
    "pysqldf = None"
   ]
  },
  {
   "cell_type": "markdown",
   "metadata": {},
   "source": [
    "Great! That will save you from having to pass `globals()` as an argument every time you query, which can get a bit tedious.  \n",
    "\n",
    "### Step 8:\n",
    "In the cell below, write a SQL query that returns the names of the first 10 passengers. Use the pysqldf object you just created above to read the string query, defined as query1, and return a DataFrame.\n",
    "\n",
    "Hint: Consider the name of the table you need to select from here, remember that you are trying to query your DataFrame object."
   ]
  },
  {
   "cell_type": "code",
   "execution_count": null,
   "metadata": {},
   "outputs": [],
   "source": [
    "# CodeGrade step8\n",
    "# Replace None with your code\n",
    "\n",
    "query1 = None\n",
    "\n",
    "passenger_names = None\n",
    "passenger_names"
   ]
  },
  {
   "cell_type": "markdown",
   "metadata": {},
   "source": [
    "\n",
    "\n",
    "### Step 9:\n",
    "In the cell below, query the DataFrame for the names and fares of any male passengers that survived, limit the results to the first 30 rows.  "
   ]
  },
  {
   "cell_type": "code",
   "execution_count": null,
   "metadata": {},
   "outputs": [],
   "source": [
    "# CodeGrade step9\n",
    "# Replace None with your code\n",
    "\n",
    "query2 = None\n",
    "\n",
    "\n",
    "sql_surviving_males = None\n",
    "sql_surviving_males"
   ]
  },
  {
   "cell_type": "markdown",
   "metadata": {},
   "source": [
    "This library is really powerful! This makes it easy for you to leverage all of your SQL knowledge to quickly query any DataFrame, especially when you only want to select certain columns.  This saves you from having to slice/query the DataFrame and then slice the columns you want (or drop the ones you don't want).\n",
    "\n",
    "Although it's outside the scope of this assessment, it's also worth noting that both `pandas` and `pandasql` provide built-in functionality for join operations, too!\n",
    "\n",
    "## Part 6: Comparing Counts\n",
    "\n",
    "### Step 10:\n",
    "\n",
    "In the cell below, create 2 separate DataFrames using `pandasql`. Your goal is to compare the different passenger class (Pclass) counts for all female passengers that survived against all female passengers that did not survive to see if class had an effect specifically on female survivorship.\n",
    "\n",
    "Query3 should represent female passengers that survived and query4 should represent female passengers that did not survive.\n",
    "\n",
    "*HINT*: Use the SQL GROUP BY statement in your queries."
   ]
  },
  {
   "cell_type": "code",
   "execution_count": null,
   "metadata": {},
   "outputs": [],
   "source": [
    "# CodeGrade step10\n",
    "# Replace None with your code\n",
    "\n",
    "query3 = None\n",
    "query4 = None\n",
    "\n",
    "\n",
    "survived_females_by_pclass_df = None\n",
    "died_females_by_pclass_df = None"
   ]
  },
  {
   "cell_type": "markdown",
   "metadata": {},
   "source": [
    "\n",
    "Using your newly created dataframes we have provided the code to plot histograms to compare visually."
   ]
  },
  {
   "cell_type": "code",
   "execution_count": null,
   "metadata": {},
   "outputs": [],
   "source": [
    "# Run this cell without changes\n",
    "# Create and label the histograms for each!\n",
    "fig, axes = plt.subplots(nrows=1, ncols=2, figsize=(18,8))\n",
    "\n",
    "\n",
    "survived_females_by_pclass_df.set_index('Pclass')['Count(*)'].plot(kind='barh', ax=axes[0])\n",
    "axes[0].set_title('Distribution of Classes for Female Survivors')\n",
    "\n",
    "\n",
    "died_females_by_pclass_df.set_index('Pclass')['Count(*)'].plot(kind='barh', ax=axes[1])\n",
    "axes[1].set_title('Distribution of Classes for Female Casualties');"
   ]
  }
 ],
 "metadata": {
  "kernelspec": {
   "display_name": "test-env01",
   "language": "python",
   "name": "python3"
  },
  "language_info": {
   "codemirror_mode": {
    "name": "ipython",
    "version": 3
   },
   "file_extension": ".py",
   "mimetype": "text/x-python",
   "name": "python",
   "nbconvert_exporter": "python",
   "pygments_lexer": "ipython3",
   "version": "3.12.4"
  },
  "toc": {
   "base_numbering": 1,
   "nav_menu": {},
   "number_sections": true,
   "sideBar": true,
   "skip_h1_title": false,
   "title_cell": "Table of Contents",
   "title_sidebar": "Contents",
   "toc_cell": false,
   "toc_position": {},
   "toc_section_display": true,
   "toc_window_display": false
  }
 },
 "nbformat": 4,
 "nbformat_minor": 2
}
